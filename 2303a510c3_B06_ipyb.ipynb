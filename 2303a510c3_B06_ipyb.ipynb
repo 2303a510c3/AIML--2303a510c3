{
  "nbformat": 4,
  "nbformat_minor": 0,
  "metadata": {
    "colab": {
      "provenance": [],
      "authorship_tag": "ABX9TyNxmpqoiuDjvn5+pAOudRFt",
      "include_colab_link": true
    },
    "kernelspec": {
      "name": "python3",
      "display_name": "Python 3"
    },
    "language_info": {
      "name": "python"
    }
  },
  "cells": [
    {
      "cell_type": "markdown",
      "metadata": {
        "id": "view-in-github",
        "colab_type": "text"
      },
      "source": [
        "<a href=\"https://colab.research.google.com/github/2303a510c3/AIML--2303a510c3/blob/main/2303a510c3_B06_ipyb.ipynb\" target=\"_parent\"><img src=\"https://colab.research.google.com/assets/colab-badge.svg\" alt=\"Open In Colab\"/></a>"
      ]
    },
    {
      "cell_type": "markdown",
      "source": [
        "Prediction of real estate valuation based on geo-referencing.\n",
        "\n",
        "1.Identify the top 5 house age values with most estate value.\n",
        "\n",
        "2. Does MRT station, Stores contribute to real estate value\n",
        "\n",
        "3. Identify the max and min house price of unit area.\n",
        "\n",
        "14.\n",
        "\n",
        "4. Predict the date when most transactions happed in real estate.\n",
        "\n",
        "5. Identify the closest distance perimeter for MRT Stations, stores for high real estate value.\n",
        "\n",
        "Bussbess Intentions\n",
        "\n",
        "Real esta valuation"
      ],
      "metadata": {
        "id": "EdQFeDoupM7J"
      }
    },
    {
      "cell_type": "code",
      "source": [
        "import pandas as pd\n",
        "\n",
        "# Sample DataFrame (replace this with your actual data)\n",
        "# Ensure your data includes 'house_age' and 'estate_value' columns\n",
        "data = {\n",
        "    'house_age': [10, 20, 30, 20, 10, 15, 10, 30, 20, 25],\n",
        "    'estate_value': [500, 450, 700, 650, 550, 600, 520, 680, 620, 580]\n",
        "}\n",
        "df = pd.DataFrame(data)\n",
        "\n",
        "# Group by 'house_age' and calculate the total estate value for each age\n",
        "grouped = df.groupby('house_age')['estate_value'].sum()\n",
        "\n",
        "# Sort by estate value in descending order\n",
        "sorted_group = grouped.sort_values(ascending=False)\n",
        "\n",
        "# Get the top 5 house ages with the most estate value\n",
        "top_5_house_ages = sorted_group.head(5)\n",
        "\n",
        "print(\"Top 5 house ages with the most estate value:\")\n",
        "print(top_5_house_ages)\n"
      ],
      "metadata": {
        "colab": {
          "base_uri": "https://localhost:8080/"
        },
        "id": "QmaUVq3RtHRV",
        "outputId": "fa71067c-37a3-49ec-ca6f-7f4261df96c9"
      },
      "execution_count": 2,
      "outputs": [
        {
          "output_type": "stream",
          "name": "stdout",
          "text": [
            "Top 5 house ages with the most estate value:\n",
            "house_age\n",
            "20    1720\n",
            "10    1570\n",
            "30    1380\n",
            "15     600\n",
            "25     580\n",
            "Name: estate_value, dtype: int64\n"
          ]
        }
      ]
    },
    {
      "cell_type": "code",
      "source": [
        "import pandas as pd\n",
        "import seaborn as sns\n",
        "import matplotlib.pyplot as plt\n",
        "from sklearn.linear_model import LinearRegression\n",
        "from sklearn.model_selection import train_test_split\n",
        "from sklearn.metrics import r2_score\n",
        "\n",
        "# Sample DataFrame (replace this with your actual data)\n",
        "# Ensure your data includes 'estate_value', 'mrt_stations', and 'stores' columns\n",
        "data = {\n",
        "    'estate_value': [500, 450, 700, 650, 550, 600, 520, 680, 620, 580],\n",
        "    'mrt_stations': [2, 3, 1, 2, 3, 4, 3, 2, 1, 3],\n",
        "    'stores': [5, 6, 4, 7, 5, 8, 6, 5, 4, 7]\n",
        "}\n",
        "df = pd.DataFrame(data)\n",
        "\n",
        "# Visualize the relationships using scatter plots\n",
        "sns.pairplot(df, x_vars=['mrt_stations', 'stores'], y_vars='estate_value', height=5, aspect=0.8)\n",
        "plt.show()\n",
        "\n",
        "# Prepare data for regression\n",
        "X = df[['mrt_stations', 'stores']]  # Features\n",
        "y = df['estate_value']              # Target variable\n",
        "\n",
        "# Split the data into training and testing sets\n",
        "X_train, X_test, y_train, y_test = train_test_split(X, y, test_size=0.2, random_state=42)\n",
        "\n",
        "# Fit a linear regression model\n",
        "model = LinearRegression()\n",
        "model.fit(X_train, y_train)\n",
        "\n",
        "# Predict on the test set\n",
        "y_pred = model.predict(X_test)\n",
        "\n",
        "# Evaluate the model\n",
        "r2 = r2_score(y_test, y_pred)\n",
        "print(\"R-squared value:\", r2)\n",
        "\n",
        "# Display coefficients\n",
        "print(\"Coefficients for MRT stations and stores:\", model.coef_)\n",
        "print(\"Intercept:\", model.intercept_)\n"
      ],
      "metadata": {
        "colab": {
          "base_uri": "https://localhost:8080/",
          "height": 565
        },
        "id": "IJoBvJb7txIO",
        "outputId": "05eae886-a87a-4e2d-e7cc-e7d3fa4878fe"
      },
      "execution_count": 3,
      "outputs": [
        {
          "output_type": "display_data",
          "data": {
            "text/plain": [
              "<Figure size 800x500 with 2 Axes>"
            ],
            "image/png": "[encoded data removed]"
          },
          "metadata": {}
        },
        {
          "output_type": "stream",
          "name": "stdout",
          "text": [
            "R-squared value: -0.0006660899653978536\n",
            "Coefficients for MRT stations and stores: [-69.25  27.  ]\n",
            "Intercept: 612.0\n"
          ]
        }
      ]
    },
    {
      "cell_type": "code",
      "source": [
        "import pandas as pd\n",
        "\n",
        "# Sample DataFrame (replace with your actual data)\n",
        "# Ensure your data includes a 'unit_price' column representing house price per unit area\n",
        "data = {\n",
        "    'house_id': [1, 2, 3, 4, 5],\n",
        "    'unit_price': [5000, 7000, 4500, 8000, 6000]  # Prices per unit area\n",
        "}\n",
        "df = pd.DataFrame(data)\n",
        "\n",
        "# Find the maximum and minimum unit price\n",
        "max_price = df['unit_price'].max()\n",
        "min_price = df['unit_price'].min()\n",
        "\n",
        "# Identify the corresponding house records\n",
        "max_price_record = df[df['unit_price'] == max_price]\n",
        "min_price_record = df[df['unit_price'] == min_price]\n",
        "\n",
        "print(\"Maximum unit price:\")\n",
        "print(max_price_record)\n",
        "print(\"\\nMinimum unit price:\")\n",
        "print(min_price_record)\n"
      ],
      "metadata": {
        "colab": {
          "base_uri": "https://localhost:8080/"
        },
        "id": "Y-Y9o7G9uiIf",
        "outputId": "e2c7bbed-3a08-48c7-d761-5f8038ca3cb8"
      },
      "execution_count": 4,
      "outputs": [
        {
          "output_type": "stream",
          "name": "stdout",
          "text": [
            "Maximum unit price:\n",
            "   house_id  unit_price\n",
            "3         4        8000\n",
            "\n",
            "Minimum unit price:\n",
            "   house_id  unit_price\n",
            "2         3        4500\n"
          ]
        }
      ]
    },
    {
      "cell_type": "code",
      "source": [
        "import pandas as pd\n",
        "\n",
        "# Sample DataFrame (replace with your actual data)\n",
        "# Ensure your data includes a 'transaction_date' column\n",
        "data = {\n",
        "    'transaction_date': ['2023-01-01', '2023-01-01', '2023-02-15', '2023-01-01', '2023-02-15', '2023-03-10'],\n",
        "    'transaction_id': [1, 2, 3, 4, 5, 6]\n",
        "}\n",
        "df = pd.DataFrame(data)\n",
        "\n",
        "# Convert 'transaction_date' to datetime format\n",
        "df['transaction_date'] = pd.to_datetime(df['transaction_date'])\n",
        "\n",
        "# Count transactions for each date\n",
        "transaction_counts = df['transaction_date'].value_counts()\n",
        "\n",
        "# Find the date with the most transactions\n",
        "most_transactions_date = transaction_counts.idxmax()\n",
        "most_transactions_count = transaction_counts.max()\n",
        "\n",
        "print(\"Date with the most transactions:\", most_transactions_date)\n",
        "print(\"Number of transactions on that date:\", most_transactions_count)\n"
      ],
      "metadata": {
        "colab": {
          "base_uri": "https://localhost:8080/"
        },
        "id": "9x1NPgRKvoZn",
        "outputId": "c83a776e-d8a8-4076-8ae7-1a517af83841"
      },
      "execution_count": 5,
      "outputs": [
        {
          "output_type": "stream",
          "name": "stdout",
          "text": [
            "Date with the most transactions: 2023-01-01 00:00:00\n",
            "Number of transactions on that date: 3\n"
          ]
        }
      ]
    },
    {
      "cell_type": "code",
      "source": [
        "import pandas as pd\n",
        "\n",
        "# Sample DataFrame (replace with your actual data)\n",
        "# Ensure your data includes 'estate_value', 'distance_to_mrt', and 'distance_to_stores'\n",
        "data = {\n",
        "    'estate_value': [500, 450, 700, 650, 550, 600, 520, 680, 620, 580],\n",
        "    'distance_to_mrt': [0.5, 1.0, 0.3, 0.4, 0.6, 1.2, 0.8, 0.2, 0.7, 0.5],  # distances in km\n",
        "    'distance_to_stores': [0.2, 0.3, 0.1, 0.4, 0.3, 0.5, 0.2, 0.1, 0.3, 0.4]  # distances in km\n",
        "}\n",
        "df = pd.DataFrame(data)\n",
        "\n",
        "# Define a high-value threshold (e.g., top 20% of estate values)\n",
        "high_value_threshold = df['estate_value'].quantile(0.8)\n",
        "\n",
        "# Filter properties with high estate values\n",
        "high_value_properties = df[df['estate_value'] >= high_value_threshold]\n",
        "\n",
        "# Identify the closest distances for MRT and stores among high-value properties\n",
        "min_distance_to_mrt = high_value_properties['distance_to_mrt'].min()\n",
        "min_distance_to_stores = high_value_properties['distance_to_stores'].min()\n",
        "\n",
        "print(\"Closest distance to MRT for high estate value:\", min_distance_to_mrt, \"km\")\n",
        "print(\"Closest distance to Stores for high estate value:\", min_distance_to_stores, \"km\")\n"
      ],
      "metadata": {
        "colab": {
          "base_uri": "https://localhost:8080/"
        },
        "id": "8UTtKX4yvyS3",
        "outputId": "ee2037e4-9d6e-47ce-c458-522ea8c18fad"
      },
      "execution_count": 6,
      "outputs": [
        {
          "output_type": "stream",
          "name": "stdout",
          "text": [
            "Closest distance to MRT for high estate value: 0.2 km\n",
            "Closest distance to Stores for high estate value: 0.1 km\n"
          ]
        }
      ]
    }
  ]
}